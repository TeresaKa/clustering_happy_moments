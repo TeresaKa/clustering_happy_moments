{
 "cells": [
  {
   "cell_type": "markdown",
   "metadata": {
    "toc": true
   },
   "source": [
    "<h1>Table of Contents<span class=\"tocSkip\"></span></h1>\n",
    "<div class=\"toc\"><ul class=\"toc-item\"><li><span><a href=\"#Laden-aller-Datensätze\" data-toc-modified-id=\"Laden-aller-Datensätze-1\"><span class=\"toc-item-num\">1&nbsp;&nbsp;</span>Laden aller Datensätze</a></span></li><li><span><a href=\"#Pipeline-zur-Exploration-von-der-verschiedenen-Versionen-des-Datensatzes-zur-Gegenüberstellung\" data-toc-modified-id=\"Pipeline-zur-Exploration-von-der-verschiedenen-Versionen-des-Datensatzes-zur-Gegenüberstellung-2\"><span class=\"toc-item-num\">2&nbsp;&nbsp;</span>Pipeline zur Exploration von der verschiedenen Versionen des Datensatzes zur Gegenüberstellung</a></span></li></ul></div>"
   ]
  },
  {
   "cell_type": "code",
   "execution_count": 1,
   "metadata": {},
   "outputs": [],
   "source": [
    "import pandas as pd\n",
    "import numpy as np\n",
    "\n",
    "import string\n",
    "import six\n",
    "from collections import Counter\n",
    "\n",
    "import matplotlib.pyplot as plt\n",
    "import seaborn as sns\n",
    "from wordcloud import WordCloud"
   ]
  },
  {
   "cell_type": "markdown",
   "metadata": {},
   "source": [
    "#### Laden aller Datensätze"
   ]
  },
  {
   "cell_type": "code",
   "execution_count": 2,
   "metadata": {},
   "outputs": [],
   "source": [
    "happy_all = pd.read_csv('happy_preprocessed_onlygroundtruth.csv')\n",
    "happy_day = pd.read_csv('happy_preprocessed_24h.csv')\n",
    "happy_months = pd.read_csv('happy_preprocessed_3m.csv')\n",
    "age_all = pd.read_csv('happy_combined_by_age_all.csv')\n",
    "age_day = pd.read_csv('happy_combined_by_age_day.csv')\n",
    "age_months = pd.read_csv('happy_combined_by_age_months.csv')\n",
    "wid_all = pd.read_csv('happy_combined_by_wid_all.csv')\n",
    "wid_day = pd.read_csv('happy_combined_by_wid_day.csv')\n",
    "wid_months = pd.read_csv('happy_combined_by_wid_months.csv')"
   ]
  },
  {
   "cell_type": "code",
   "execution_count": 232,
   "metadata": {},
   "outputs": [
    {
     "name": "stdout",
     "output_type": "stream",
     "text": [
      "0.5002985074626866\n",
      "0.39164179104477614\n",
      "0.23691790686509842\n",
      "0.44791166586653863\n",
      "0.24723346828609988\n"
     ]
    },
    {
     "name": "stderr",
     "output_type": "stream",
     "text": [
      "/home/teresa/.local/lib/python3.7/site-packages/ipykernel_launcher.py:1: UserWarning: Boolean Series key will be reindexed to match DataFrame index.\n",
      "  \"\"\"Entry point for launching an IPython kernel.\n",
      "/home/teresa/.local/lib/python3.7/site-packages/ipykernel_launcher.py:2: UserWarning: Boolean Series key will be reindexed to match DataFrame index.\n",
      "  \n",
      "/home/teresa/.local/lib/python3.7/site-packages/ipykernel_launcher.py:3: UserWarning: Boolean Series key will be reindexed to match DataFrame index.\n",
      "  This is separate from the ipykernel package so we can avoid doing imports until\n",
      "/home/teresa/.local/lib/python3.7/site-packages/ipykernel_launcher.py:4: UserWarning: Boolean Series key will be reindexed to match DataFrame index.\n",
      "  after removing the cwd from sys.path.\n",
      "/home/teresa/.local/lib/python3.7/site-packages/ipykernel_launcher.py:5: UserWarning: Boolean Series key will be reindexed to match DataFrame index.\n",
      "  \"\"\"\n"
     ]
    }
   ],
   "source": [
    "print(len(happy_all[happy_all.age_range=='20-29'][happy_all.country=='IND'][happy_all.marital=='married'])/len(happy_all[happy_all.marital=='married'][happy_all.country=='IND']))\n",
    "print(len(happy_all[happy_all.age_range=='30-39'][happy_all.country=='IND'][happy_all.marital=='married'])/len(happy_all[happy_all.marital=='married'][happy_all.country=='IND']))\n",
    "print(len(happy_all[happy_all.age_range=='20-29'][happy_all.country=='USA'][happy_all.marital=='married'])/len(happy_all[happy_all.marital=='married'][happy_all.country=='USA']))\n",
    "print(len(happy_all[happy_all.age_range=='30-39'][happy_all.country=='USA'][happy_all.marital=='married'])/len(happy_all[happy_all.marital=='married'][happy_all.country=='USA']))\n",
    "print(len(happy_all[happy_all.age_range=='30-39'][happy_all.marital=='single'])/len(happy_all[happy_all.marital=='single']))"
   ]
  },
  {
   "cell_type": "markdown",
   "metadata": {},
   "source": [
    "#### Pipeline zur Exploration von der verschiedenen Versionen des Datensatzes zur Gegenüberstellung"
   ]
  },
  {
   "cell_type": "code",
   "execution_count": 29,
   "metadata": {},
   "outputs": [],
   "source": [
    "class Visualisations:\n",
    "    def __init__(self, df, ds_name, path, column):\n",
    "        self.df = df\n",
    "        self.ds_name = ds_name\n",
    "        self.path = path\n",
    "        self.column = column\n",
    "     \n",
    "    # statistische Übersicht\n",
    "    def prepare_df(self):\n",
    "        df = self.df[self.df[self.column].notnull()]\n",
    "        len_count = df[self.column].apply(lambda x: len(x.split()))\n",
    "        df = pd.DataFrame(len_count.describe())\n",
    "        df['statistics'] = df.index\n",
    "        df = df[['statistics',self.column]]\n",
    "        df.rename(columns={self.column:'values'}, inplace=True)\n",
    "        df = df.round({'values': 1})\n",
    "        return df, len_count\n",
    "\n",
    "    def render_mpl_table(self, data,path, col_width=3.0, row_height=0.625, font_size=14,\n",
    "                         header_color='#40466e', row_colors=['#f1f1f2', 'w'], edge_color='w',\n",
    "                         bbox=[0, 0, 1, 1], header_columns=0,\n",
    "                         ax=None, **kwargs):\n",
    "        if ax is None:\n",
    "            size = (np.array(data.shape[::-1]) + np.array([0, 1])) * np.array([col_width, row_height])\n",
    "            fig, ax = plt.subplots(figsize=size)\n",
    "            ax.axis('off')\n",
    "\n",
    "        mpl_table = ax.table(cellText=data.values, bbox=bbox, colLabels=data.columns, **kwargs)\n",
    "\n",
    "        mpl_table.auto_set_font_size(False)\n",
    "        mpl_table.set_fontsize(font_size)\n",
    "\n",
    "        for k, cell in six.iteritems(mpl_table._cells):\n",
    "            cell.set_edgecolor(edge_color)\n",
    "            if k[0] == 0 or k[1] < header_columns:\n",
    "                cell.set_text_props(weight='bold', color='w')\n",
    "                cell.set_facecolor(header_color)\n",
    "            else:\n",
    "                cell.set_facecolor(row_colors[k[0]%len(row_colors) ])\n",
    "        plt.savefig(path)\n",
    "        plt.clf()\n",
    "        return ax\n",
    "    \n",
    "    # Satzlängen\n",
    "    def compute_length(self, len_count):\n",
    "        length_order = [\"0-4\", \"5-9\", \"10-14\", \"15-19\", \"20-24\", \"25-29\", \"30-34\", \"35-39\", \\\n",
    "                        \"40-44\", \"45-49\", \">=50\"]\n",
    "        length_category = len_count.apply(lambda x: length_order[min(10, int(x/5))])\n",
    "        length_counts = pd.DataFrame(length_category.value_counts()).reset_index()\n",
    "        length_counts.columns = ['number of words per moment', 'number of moments']\n",
    "        \n",
    "        plt.figure(figsize=(10,6))\n",
    "        sns.barplot(x='number of words per moment', y='number of moments', data=length_counts, order=length_order)\n",
    "        plt.savefig(self.path + self.ds_name + '_moment_len.png')\n",
    "        plt.clf()\n",
    "    \n",
    "    def func(self,pct, allvals):\n",
    "        absolute = int(pct/100.*np.sum(allvals))\n",
    "        return \"{:.1f}% \\n{:d} moments\".format(pct, absolute)\n",
    "    \n",
    "    # Anzahl Momente pro Kategorie/ Altersstufe\n",
    "    def moments_per_category(self):\n",
    "        if 'ground_truth_category' in self.df.columns:\n",
    "            explode = (0.05,0.05,0.05,0.05,0.05,0.05,0.05)\n",
    "            c = Counter(self.df.ground_truth_category)\n",
    "\n",
    "            plt.figure( figsize=(12,8) )\n",
    "            plt.pie(list(c.values()), labels=list(c.keys()), autopct=lambda pct: self.func(pct, list(c.values())), pctdistance=1.2,labeldistance=0.45,explode=explode)\n",
    "            plt.tight_layout()\n",
    "            plt.savefig(self.path+self.ds_name+'_moments_per_cat.png', bbox_inches = \"tight\")\n",
    "            plt.clf()\n",
    "\n",
    "    def moments_per_age(self):\n",
    "#         if 'age' in self.df.columns:\n",
    "#             c = Counter(self.df.age)\n",
    "#             plt.pie(list(c.values()), labels=list(c.keys()), autopct=lambda pct: self.func(pct, list(c.values())),pctdistance=1.2,labeldistance=0.45)\n",
    "#             plt.tight_layout()\n",
    "#             plt.savefig(self.path+self.ds_name+'_moments_per_age.png', bbox_inches = \"tight\")\n",
    "        if 'age_range' in self.df.columns:\n",
    "            c = Counter(self.df.age_range)\n",
    "            plt.pie(list(c.values()), labels=list(c.keys()), autopct=lambda pct: self.func(pct, list(c.values())),pctdistance=1.2,labeldistance=0.45)\n",
    "            plt.tight_layout()\n",
    "            plt.savefig(self.path+self.ds_name+'_moments_per_agerange.png', bbox_inches = \"tight\")\n",
    "        plt.clf()\n",
    "    \n",
    "    # Länge pro Kategorie\n",
    "    def length_per_category(self):\n",
    "        if 'ground_truth_category' in self.df.columns:\n",
    "            plt.figure(figsize=(10,6))\n",
    "            sns.boxplot(x=self.df.ground_truth_category, y=self.df.length)\n",
    "            plt.savefig(self.path+self.ds_name+'_length_per_cat.png')\n",
    "            plt.clf()\n",
    "            \n",
    "     # Länge pro Altersstufe\n",
    "    def length_per_age(self):\n",
    "        if 'age_range' in self.df.columns:\n",
    "            plt.figure(figsize=(10,6))\n",
    "            sns.boxplot(x=self.df.age_range, y=self.df.length)\n",
    "            plt.savefig(self.path+self.ds_name+'_length_per_age.png')\n",
    "            plt.clf()\n",
    "    \n",
    "    # Wordclouds\n",
    "    def wordclouds(self):\n",
    "        if 'cleaned_hm' in self.df.columns:\n",
    "            text = ' '.join(self.df['cleaned_hm'].tolist())\n",
    "            text = text.lower()\n",
    "            wordcloud = WordCloud(background_color=\"white\", height=2700, width=3600).generate(text)\n",
    "            plt.figure(figsize=(14,8))\n",
    "            plt.imshow(wordcloud.recolor(colormap=plt.get_cmap('Set2')), interpolation='bilinear')\n",
    "            plt.axis(\"off\")\n",
    "            if self.path is not None:\n",
    "                plt.savefig(self.path+self.ds_name+'_wordcloud.png')\n",
    "            plt.clf()\n",
    "    \n",
    "    def wordclouds_limited(self):\n",
    "        LIMIT_WORDS = ['happy', 'day', 'got', 'went', 'today', 'made', 'one', 'two', 'time', 'last', 'first', 'going', 'getting', 'took', 'found', 'lot', 'really', 'saw', 'see', 'month', 'week', 'day', 'yesterday', 'year', 'ago', 'now', 'still', 'since', 'something', 'great', 'good', 'long', 'thing', 'toi', 'without', 'yesteri', '2s', 'toand', 'ing']\n",
    "        if 'cleaned_hm' in self.df.columns:\n",
    "            text = ' '.join(self.df['cleaned_hm'].tolist())\n",
    "            text = text.lower()\n",
    "            for w in LIMIT_WORDS:\n",
    "                text = text.replace(' ' + w, '')\n",
    "                text = text.replace(w + ' ', '')\n",
    "            wordcloud = WordCloud(background_color=\"white\", height=2700, width=3600).generate(text)\n",
    "            plt.figure(figsize=(14,8))\n",
    "            plt.imshow(wordcloud.recolor(colormap=plt.get_cmap('Set2')), interpolation='bilinear')\n",
    "            plt.axis(\"off\")\n",
    "            plt.savefig(self.path+self.ds_name+'_wordcloud_limited.png')\n",
    "            plt.clf()\n",
    "        \n",
    "\n",
    "    def gender(self):\n",
    "        if 'gender' in self.df.columns:\n",
    "            self.df.gender.value_counts().plot(kind='bar')\n",
    "            plt.savefig(self.path+self.ds_name+'_gender.png')\n",
    "            plt.clf()\n",
    "        \n",
    "    def marital(self):\n",
    "        if 'hmid' in self.df.columns:\n",
    "            df = pd.pivot_table(self.df, values='hmid',index='marital', aggfunc='count')\n",
    "            df['marital'] = df.index\n",
    "            df = df[['marital','hmid']]\n",
    "            df.rename(columns={'hmid':'values'}, inplace=True)\n",
    "            self.render_mpl_table(data=df, path=self.path+self.ds_name+'_marital.png')\n",
    "        \n",
    "    def country(self):\n",
    "        if 'hmid' in self.df.columns:\n",
    "            df = pd.pivot_table(self.df, values='hmid',index='country', aggfunc='count')\n",
    "            df['country'] = df.index\n",
    "            df = df[['country','hmid']]\n",
    "            df.rename(columns={'hmid':'values'}, inplace=True)\n",
    "            df.sort_values(by='values', inplace=True, ascending=False)\n",
    "            df = df[:10]\n",
    "            self.render_mpl_table(data=df, path=self.path+self.ds_name+'_country.png')\n",
    "\n",
    "    def parenthood(self):\n",
    "        if 'hmid' in self.df.columns:\n",
    "            df = pd.pivot_table(self.df, values='hmid',index='parenthood', aggfunc='count')\n",
    "            df['parenthood'] = df.index\n",
    "            df = df[['parenthood','hmid']]\n",
    "            df.rename(columns={'hmid':'values'}, inplace=True)\n",
    "            self.render_mpl_table(data=df, path=self.path+self.ds_name+'_parenthood.png')\n",
    "        \n",
    "    # prediction und ground_truth nicht immer übereinstimmend\n",
    "    # Number of moments per category\n",
    "    def categories(self):    \n",
    "        if 'hmid' in self.df.columns:\n",
    "            df = pd.pivot_table(self.df, values='hmid',index='ground_truth_category', aggfunc='count')\n",
    "            df['category'] = df.index\n",
    "            df = df[['category','hmid']]\n",
    "            df.rename(columns={'hmid':'values'}, inplace=True)\n",
    "            self.render_mpl_table(df, self.path+self.ds_name+'_mom_per_cat.png')\n",
    "        \n",
    "    def age(self):\n",
    "        if 'age' in self.df.columns:\n",
    "            sns.distplot(self.df['age'], kde=False)\n",
    "            plt.savefig(self.path+self.ds_name+'_dist_age.png')\n",
    "        elif 'age_range' in self.df.columns:\n",
    "            c=Counter(self.df['age_range'])\n",
    "            sns.barplot(x=list(c.keys()), y=list(c.values()))\n",
    "            plt.savefig(self.path+self.ds_name+'_dist_agerange.png')\n",
    "        plt.clf()\n",
    "        \n",
    "    def vis_marital(self):\n",
    "        if 'ground_truth_category' in self.df.columns and 'marital' in self.df.columns:\n",
    "            marital = self.df[self.df!='divorced']\n",
    "            marital = marital[marital!='widowed']\n",
    "            marital = marital[marital!='separated']\n",
    "            g = sns.FacetGrid(data=marital, col='marital', height=5, aspect=1.5,)\n",
    "\n",
    "            g.map(plt.hist,'ground_truth_category', bins=50)\n",
    "            plt.savefig(self.path+self.ds_name+'_married_vs_single.png')\n",
    "            plt.clf()\n",
    "        \n",
    "    def all_vis(self):\n",
    "        len_df, len_count = self.prepare_df()\n",
    "        self.render_mpl_table(data=len_df, header_columns=0, col_width=2.0, path=self.path + self.ds_name + '_statistics.png')\n",
    "        self.compute_length(len_count)\n",
    "        self.moments_per_category()\n",
    "        self.moments_per_age()\n",
    "        self.length_per_category()\n",
    "        self.length_per_age()\n",
    "        self.wordclouds()\n",
    "        self.wordclouds_limited()\n",
    "        self.gender()\n",
    "        self.marital()\n",
    "        self.country()\n",
    "        self.parenthood()\n",
    "        self.categories()\n",
    "        self.age()\n",
    "        self.vis_marital()"
   ]
  },
  {
   "cell_type": "code",
   "execution_count": 30,
   "metadata": {},
   "outputs": [
    {
     "name": "stderr",
     "output_type": "stream",
     "text": [
      "/home/teresa/anaconda3/lib/python3.7/site-packages/pandas/core/ops/array_ops.py:253: FutureWarning: elementwise comparison failed; returning scalar instead, but in the future will perform elementwise comparison\n",
      "  res_values = method(rvalues)\n"
     ]
    },
    {
     "name": "stdout",
     "output_type": "stream",
     "text": [
      "None\n"
     ]
    },
    {
     "name": "stderr",
     "output_type": "stream",
     "text": [
      "/home/teresa/.local/lib/python3.7/site-packages/ipykernel_launcher.py:25: RuntimeWarning: More than 20 figures have been opened. Figures created through the pyplot interface (`matplotlib.pyplot.figure`) are retained until explicitly closed and may consume too much memory. (To control this warning, see the rcParam `figure.max_open_warning`).\n",
      "/home/teresa/anaconda3/lib/python3.7/site-packages/pandas/core/ops/array_ops.py:253: FutureWarning: elementwise comparison failed; returning scalar instead, but in the future will perform elementwise comparison\n",
      "  res_values = method(rvalues)\n",
      "/home/teresa/anaconda3/lib/python3.7/site-packages/seaborn/axisgrid.py:324: RuntimeWarning: More than 20 figures have been opened. Figures created through the pyplot interface (`matplotlib.pyplot.figure`) are retained until explicitly closed and may consume too much memory. (To control this warning, see the rcParam `figure.max_open_warning`).\n",
      "  fig, axes = plt.subplots(nrow, ncol, **kwargs)\n"
     ]
    },
    {
     "name": "stdout",
     "output_type": "stream",
     "text": [
      "None\n"
     ]
    },
    {
     "name": "stderr",
     "output_type": "stream",
     "text": [
      "/home/teresa/.local/lib/python3.7/site-packages/ipykernel_launcher.py:25: RuntimeWarning: More than 20 figures have been opened. Figures created through the pyplot interface (`matplotlib.pyplot.figure`) are retained until explicitly closed and may consume too much memory. (To control this warning, see the rcParam `figure.max_open_warning`).\n",
      "/home/teresa/.local/lib/python3.7/site-packages/ipykernel_launcher.py:52: RuntimeWarning: More than 20 figures have been opened. Figures created through the pyplot interface (`matplotlib.pyplot.figure`) are retained until explicitly closed and may consume too much memory. (To control this warning, see the rcParam `figure.max_open_warning`).\n",
      "/home/teresa/.local/lib/python3.7/site-packages/ipykernel_launcher.py:67: RuntimeWarning: More than 20 figures have been opened. Figures created through the pyplot interface (`matplotlib.pyplot.figure`) are retained until explicitly closed and may consume too much memory. (To control this warning, see the rcParam `figure.max_open_warning`).\n",
      "/home/teresa/.local/lib/python3.7/site-packages/ipykernel_launcher.py:89: RuntimeWarning: More than 20 figures have been opened. Figures created through the pyplot interface (`matplotlib.pyplot.figure`) are retained until explicitly closed and may consume too much memory. (To control this warning, see the rcParam `figure.max_open_warning`).\n",
      "/home/teresa/.local/lib/python3.7/site-packages/ipykernel_launcher.py:97: RuntimeWarning: More than 20 figures have been opened. Figures created through the pyplot interface (`matplotlib.pyplot.figure`) are retained until explicitly closed and may consume too much memory. (To control this warning, see the rcParam `figure.max_open_warning`).\n",
      "/home/teresa/.local/lib/python3.7/site-packages/ipykernel_launcher.py:108: RuntimeWarning: More than 20 figures have been opened. Figures created through the pyplot interface (`matplotlib.pyplot.figure`) are retained until explicitly closed and may consume too much memory. (To control this warning, see the rcParam `figure.max_open_warning`).\n",
      "/home/teresa/.local/lib/python3.7/site-packages/ipykernel_launcher.py:124: RuntimeWarning: More than 20 figures have been opened. Figures created through the pyplot interface (`matplotlib.pyplot.figure`) are retained until explicitly closed and may consume too much memory. (To control this warning, see the rcParam `figure.max_open_warning`).\n",
      "/home/teresa/.local/lib/python3.7/site-packages/ipykernel_launcher.py:25: RuntimeWarning: More than 20 figures have been opened. Figures created through the pyplot interface (`matplotlib.pyplot.figure`) are retained until explicitly closed and may consume too much memory. (To control this warning, see the rcParam `figure.max_open_warning`).\n",
      "/home/teresa/anaconda3/lib/python3.7/site-packages/pandas/core/ops/array_ops.py:253: FutureWarning: elementwise comparison failed; returning scalar instead, but in the future will perform elementwise comparison\n",
      "  res_values = method(rvalues)\n",
      "/home/teresa/anaconda3/lib/python3.7/site-packages/seaborn/axisgrid.py:324: RuntimeWarning: More than 20 figures have been opened. Figures created through the pyplot interface (`matplotlib.pyplot.figure`) are retained until explicitly closed and may consume too much memory. (To control this warning, see the rcParam `figure.max_open_warning`).\n",
      "  fig, axes = plt.subplots(nrow, ncol, **kwargs)\n"
     ]
    },
    {
     "name": "stdout",
     "output_type": "stream",
     "text": [
      "None\n"
     ]
    },
    {
     "name": "stderr",
     "output_type": "stream",
     "text": [
      "/home/teresa/.local/lib/python3.7/site-packages/ipykernel_launcher.py:25: RuntimeWarning: More than 20 figures have been opened. Figures created through the pyplot interface (`matplotlib.pyplot.figure`) are retained until explicitly closed and may consume too much memory. (To control this warning, see the rcParam `figure.max_open_warning`).\n",
      "/home/teresa/.local/lib/python3.7/site-packages/ipykernel_launcher.py:52: RuntimeWarning: More than 20 figures have been opened. Figures created through the pyplot interface (`matplotlib.pyplot.figure`) are retained until explicitly closed and may consume too much memory. (To control this warning, see the rcParam `figure.max_open_warning`).\n",
      "/home/teresa/.local/lib/python3.7/site-packages/ipykernel_launcher.py:67: RuntimeWarning: More than 20 figures have been opened. Figures created through the pyplot interface (`matplotlib.pyplot.figure`) are retained until explicitly closed and may consume too much memory. (To control this warning, see the rcParam `figure.max_open_warning`).\n",
      "/home/teresa/.local/lib/python3.7/site-packages/ipykernel_launcher.py:89: RuntimeWarning: More than 20 figures have been opened. Figures created through the pyplot interface (`matplotlib.pyplot.figure`) are retained until explicitly closed and may consume too much memory. (To control this warning, see the rcParam `figure.max_open_warning`).\n",
      "/home/teresa/.local/lib/python3.7/site-packages/ipykernel_launcher.py:97: RuntimeWarning: More than 20 figures have been opened. Figures created through the pyplot interface (`matplotlib.pyplot.figure`) are retained until explicitly closed and may consume too much memory. (To control this warning, see the rcParam `figure.max_open_warning`).\n",
      "/home/teresa/.local/lib/python3.7/site-packages/ipykernel_launcher.py:108: RuntimeWarning: More than 20 figures have been opened. Figures created through the pyplot interface (`matplotlib.pyplot.figure`) are retained until explicitly closed and may consume too much memory. (To control this warning, see the rcParam `figure.max_open_warning`).\n",
      "/home/teresa/.local/lib/python3.7/site-packages/ipykernel_launcher.py:124: RuntimeWarning: More than 20 figures have been opened. Figures created through the pyplot interface (`matplotlib.pyplot.figure`) are retained until explicitly closed and may consume too much memory. (To control this warning, see the rcParam `figure.max_open_warning`).\n"
     ]
    },
    {
     "name": "stdout",
     "output_type": "stream",
     "text": [
      "None\n"
     ]
    },
    {
     "name": "stderr",
     "output_type": "stream",
     "text": [
      "/home/teresa/.local/lib/python3.7/site-packages/ipykernel_launcher.py:25: RuntimeWarning: More than 20 figures have been opened. Figures created through the pyplot interface (`matplotlib.pyplot.figure`) are retained until explicitly closed and may consume too much memory. (To control this warning, see the rcParam `figure.max_open_warning`).\n",
      "/home/teresa/.local/lib/python3.7/site-packages/ipykernel_launcher.py:52: RuntimeWarning: More than 20 figures have been opened. Figures created through the pyplot interface (`matplotlib.pyplot.figure`) are retained until explicitly closed and may consume too much memory. (To control this warning, see the rcParam `figure.max_open_warning`).\n",
      "/home/teresa/.local/lib/python3.7/site-packages/ipykernel_launcher.py:67: RuntimeWarning: More than 20 figures have been opened. Figures created through the pyplot interface (`matplotlib.pyplot.figure`) are retained until explicitly closed and may consume too much memory. (To control this warning, see the rcParam `figure.max_open_warning`).\n",
      "/home/teresa/.local/lib/python3.7/site-packages/ipykernel_launcher.py:89: RuntimeWarning: More than 20 figures have been opened. Figures created through the pyplot interface (`matplotlib.pyplot.figure`) are retained until explicitly closed and may consume too much memory. (To control this warning, see the rcParam `figure.max_open_warning`).\n",
      "/home/teresa/.local/lib/python3.7/site-packages/ipykernel_launcher.py:97: RuntimeWarning: More than 20 figures have been opened. Figures created through the pyplot interface (`matplotlib.pyplot.figure`) are retained until explicitly closed and may consume too much memory. (To control this warning, see the rcParam `figure.max_open_warning`).\n",
      "/home/teresa/.local/lib/python3.7/site-packages/ipykernel_launcher.py:108: RuntimeWarning: More than 20 figures have been opened. Figures created through the pyplot interface (`matplotlib.pyplot.figure`) are retained until explicitly closed and may consume too much memory. (To control this warning, see the rcParam `figure.max_open_warning`).\n",
      "/home/teresa/.local/lib/python3.7/site-packages/ipykernel_launcher.py:124: RuntimeWarning: More than 20 figures have been opened. Figures created through the pyplot interface (`matplotlib.pyplot.figure`) are retained until explicitly closed and may consume too much memory. (To control this warning, see the rcParam `figure.max_open_warning`).\n"
     ]
    },
    {
     "name": "stdout",
     "output_type": "stream",
     "text": [
      "None\n"
     ]
    },
    {
     "name": "stderr",
     "output_type": "stream",
     "text": [
      "/home/teresa/.local/lib/python3.7/site-packages/ipykernel_launcher.py:25: RuntimeWarning: More than 20 figures have been opened. Figures created through the pyplot interface (`matplotlib.pyplot.figure`) are retained until explicitly closed and may consume too much memory. (To control this warning, see the rcParam `figure.max_open_warning`).\n",
      "/home/teresa/.local/lib/python3.7/site-packages/ipykernel_launcher.py:52: RuntimeWarning: More than 20 figures have been opened. Figures created through the pyplot interface (`matplotlib.pyplot.figure`) are retained until explicitly closed and may consume too much memory. (To control this warning, see the rcParam `figure.max_open_warning`).\n",
      "/home/teresa/.local/lib/python3.7/site-packages/ipykernel_launcher.py:67: RuntimeWarning: More than 20 figures have been opened. Figures created through the pyplot interface (`matplotlib.pyplot.figure`) are retained until explicitly closed and may consume too much memory. (To control this warning, see the rcParam `figure.max_open_warning`).\n",
      "/home/teresa/.local/lib/python3.7/site-packages/ipykernel_launcher.py:89: RuntimeWarning: More than 20 figures have been opened. Figures created through the pyplot interface (`matplotlib.pyplot.figure`) are retained until explicitly closed and may consume too much memory. (To control this warning, see the rcParam `figure.max_open_warning`).\n",
      "/home/teresa/.local/lib/python3.7/site-packages/ipykernel_launcher.py:97: RuntimeWarning: More than 20 figures have been opened. Figures created through the pyplot interface (`matplotlib.pyplot.figure`) are retained until explicitly closed and may consume too much memory. (To control this warning, see the rcParam `figure.max_open_warning`).\n",
      "/home/teresa/.local/lib/python3.7/site-packages/ipykernel_launcher.py:108: RuntimeWarning: More than 20 figures have been opened. Figures created through the pyplot interface (`matplotlib.pyplot.figure`) are retained until explicitly closed and may consume too much memory. (To control this warning, see the rcParam `figure.max_open_warning`).\n",
      "/home/teresa/.local/lib/python3.7/site-packages/ipykernel_launcher.py:124: RuntimeWarning: More than 20 figures have been opened. Figures created through the pyplot interface (`matplotlib.pyplot.figure`) are retained until explicitly closed and may consume too much memory. (To control this warning, see the rcParam `figure.max_open_warning`).\n"
     ]
    },
    {
     "name": "stdout",
     "output_type": "stream",
     "text": [
      "None\n"
     ]
    },
    {
     "name": "stderr",
     "output_type": "stream",
     "text": [
      "/home/teresa/.local/lib/python3.7/site-packages/ipykernel_launcher.py:25: RuntimeWarning: More than 20 figures have been opened. Figures created through the pyplot interface (`matplotlib.pyplot.figure`) are retained until explicitly closed and may consume too much memory. (To control this warning, see the rcParam `figure.max_open_warning`).\n",
      "/home/teresa/.local/lib/python3.7/site-packages/ipykernel_launcher.py:52: RuntimeWarning: More than 20 figures have been opened. Figures created through the pyplot interface (`matplotlib.pyplot.figure`) are retained until explicitly closed and may consume too much memory. (To control this warning, see the rcParam `figure.max_open_warning`).\n",
      "/home/teresa/.local/lib/python3.7/site-packages/ipykernel_launcher.py:97: RuntimeWarning: More than 20 figures have been opened. Figures created through the pyplot interface (`matplotlib.pyplot.figure`) are retained until explicitly closed and may consume too much memory. (To control this warning, see the rcParam `figure.max_open_warning`).\n",
      "/home/teresa/.local/lib/python3.7/site-packages/ipykernel_launcher.py:108: RuntimeWarning: More than 20 figures have been opened. Figures created through the pyplot interface (`matplotlib.pyplot.figure`) are retained until explicitly closed and may consume too much memory. (To control this warning, see the rcParam `figure.max_open_warning`).\n",
      "/home/teresa/.local/lib/python3.7/site-packages/ipykernel_launcher.py:124: RuntimeWarning: More than 20 figures have been opened. Figures created through the pyplot interface (`matplotlib.pyplot.figure`) are retained until explicitly closed and may consume too much memory. (To control this warning, see the rcParam `figure.max_open_warning`).\n"
     ]
    },
    {
     "name": "stdout",
     "output_type": "stream",
     "text": [
      "None\n"
     ]
    },
    {
     "name": "stderr",
     "output_type": "stream",
     "text": [
      "/home/teresa/.local/lib/python3.7/site-packages/ipykernel_launcher.py:25: RuntimeWarning: More than 20 figures have been opened. Figures created through the pyplot interface (`matplotlib.pyplot.figure`) are retained until explicitly closed and may consume too much memory. (To control this warning, see the rcParam `figure.max_open_warning`).\n",
      "/home/teresa/.local/lib/python3.7/site-packages/ipykernel_launcher.py:52: RuntimeWarning: More than 20 figures have been opened. Figures created through the pyplot interface (`matplotlib.pyplot.figure`) are retained until explicitly closed and may consume too much memory. (To control this warning, see the rcParam `figure.max_open_warning`).\n",
      "/home/teresa/.local/lib/python3.7/site-packages/ipykernel_launcher.py:97: RuntimeWarning: More than 20 figures have been opened. Figures created through the pyplot interface (`matplotlib.pyplot.figure`) are retained until explicitly closed and may consume too much memory. (To control this warning, see the rcParam `figure.max_open_warning`).\n",
      "/home/teresa/.local/lib/python3.7/site-packages/ipykernel_launcher.py:108: RuntimeWarning: More than 20 figures have been opened. Figures created through the pyplot interface (`matplotlib.pyplot.figure`) are retained until explicitly closed and may consume too much memory. (To control this warning, see the rcParam `figure.max_open_warning`).\n",
      "/home/teresa/.local/lib/python3.7/site-packages/ipykernel_launcher.py:124: RuntimeWarning: More than 20 figures have been opened. Figures created through the pyplot interface (`matplotlib.pyplot.figure`) are retained until explicitly closed and may consume too much memory. (To control this warning, see the rcParam `figure.max_open_warning`).\n"
     ]
    },
    {
     "name": "stdout",
     "output_type": "stream",
     "text": [
      "None\n"
     ]
    },
    {
     "name": "stderr",
     "output_type": "stream",
     "text": [
      "/home/teresa/.local/lib/python3.7/site-packages/ipykernel_launcher.py:25: RuntimeWarning: More than 20 figures have been opened. Figures created through the pyplot interface (`matplotlib.pyplot.figure`) are retained until explicitly closed and may consume too much memory. (To control this warning, see the rcParam `figure.max_open_warning`).\n",
      "/home/teresa/.local/lib/python3.7/site-packages/ipykernel_launcher.py:52: RuntimeWarning: More than 20 figures have been opened. Figures created through the pyplot interface (`matplotlib.pyplot.figure`) are retained until explicitly closed and may consume too much memory. (To control this warning, see the rcParam `figure.max_open_warning`).\n",
      "/home/teresa/.local/lib/python3.7/site-packages/ipykernel_launcher.py:97: RuntimeWarning: More than 20 figures have been opened. Figures created through the pyplot interface (`matplotlib.pyplot.figure`) are retained until explicitly closed and may consume too much memory. (To control this warning, see the rcParam `figure.max_open_warning`).\n",
      "/home/teresa/.local/lib/python3.7/site-packages/ipykernel_launcher.py:108: RuntimeWarning: More than 20 figures have been opened. Figures created through the pyplot interface (`matplotlib.pyplot.figure`) are retained until explicitly closed and may consume too much memory. (To control this warning, see the rcParam `figure.max_open_warning`).\n",
      "/home/teresa/.local/lib/python3.7/site-packages/ipykernel_launcher.py:124: RuntimeWarning: More than 20 figures have been opened. Figures created through the pyplot interface (`matplotlib.pyplot.figure`) are retained until explicitly closed and may consume too much memory. (To control this warning, see the rcParam `figure.max_open_warning`).\n"
     ]
    },
    {
     "name": "stdout",
     "output_type": "stream",
     "text": [
      "None\n"
     ]
    },
    {
     "data": {
      "text/plain": [
       "<Figure size 288x405 with 0 Axes>"
      ]
     },
     "metadata": {},
     "output_type": "display_data"
    },
    {
     "data": {
      "text/plain": [
       "<Figure size 720x432 with 0 Axes>"
      ]
     },
     "metadata": {},
     "output_type": "display_data"
    },
    {
     "data": {
      "text/plain": [
       "<Figure size 864x576 with 0 Axes>"
      ]
     },
     "metadata": {},
     "output_type": "display_data"
    },
    {
     "data": {
      "text/plain": [
       "<Figure size 720x432 with 0 Axes>"
      ]
     },
     "metadata": {},
     "output_type": "display_data"
    },
    {
     "data": {
      "text/plain": [
       "<Figure size 720x432 with 0 Axes>"
      ]
     },
     "metadata": {},
     "output_type": "display_data"
    },
    {
     "data": {
      "text/plain": [
       "<Figure size 1008x576 with 0 Axes>"
      ]
     },
     "metadata": {},
     "output_type": "display_data"
    },
    {
     "data": {
      "text/plain": [
       "<Figure size 1008x576 with 0 Axes>"
      ]
     },
     "metadata": {},
     "output_type": "display_data"
    },
    {
     "data": {
      "text/plain": [
       "<Figure size 432x315 with 0 Axes>"
      ]
     },
     "metadata": {},
     "output_type": "display_data"
    },
    {
     "data": {
      "text/plain": [
       "<Figure size 432x495 with 0 Axes>"
      ]
     },
     "metadata": {},
     "output_type": "display_data"
    },
    {
     "data": {
      "text/plain": [
       "<Figure size 432x180 with 0 Axes>"
      ]
     },
     "metadata": {},
     "output_type": "display_data"
    },
    {
     "data": {
      "text/plain": [
       "<Figure size 432x360 with 0 Axes>"
      ]
     },
     "metadata": {},
     "output_type": "display_data"
    },
    {
     "data": {
      "text/plain": [
       "<Figure size 1620x360 with 0 Axes>"
      ]
     },
     "metadata": {},
     "output_type": "display_data"
    },
    {
     "data": {
      "text/plain": [
       "<Figure size 288x405 with 0 Axes>"
      ]
     },
     "metadata": {},
     "output_type": "display_data"
    },
    {
     "data": {
      "text/plain": [
       "<Figure size 720x432 with 0 Axes>"
      ]
     },
     "metadata": {},
     "output_type": "display_data"
    },
    {
     "data": {
      "text/plain": [
       "<Figure size 864x576 with 0 Axes>"
      ]
     },
     "metadata": {},
     "output_type": "display_data"
    },
    {
     "data": {
      "text/plain": [
       "<Figure size 720x432 with 0 Axes>"
      ]
     },
     "metadata": {},
     "output_type": "display_data"
    },
    {
     "data": {
      "text/plain": [
       "<Figure size 720x432 with 0 Axes>"
      ]
     },
     "metadata": {},
     "output_type": "display_data"
    },
    {
     "data": {
      "text/plain": [
       "<Figure size 1008x576 with 0 Axes>"
      ]
     },
     "metadata": {},
     "output_type": "display_data"
    },
    {
     "data": {
      "text/plain": [
       "<Figure size 1008x576 with 0 Axes>"
      ]
     },
     "metadata": {},
     "output_type": "display_data"
    },
    {
     "data": {
      "text/plain": [
       "<Figure size 432x315 with 0 Axes>"
      ]
     },
     "metadata": {},
     "output_type": "display_data"
    },
    {
     "data": {
      "text/plain": [
       "<Figure size 432x495 with 0 Axes>"
      ]
     },
     "metadata": {},
     "output_type": "display_data"
    },
    {
     "data": {
      "text/plain": [
       "<Figure size 432x180 with 0 Axes>"
      ]
     },
     "metadata": {},
     "output_type": "display_data"
    },
    {
     "data": {
      "text/plain": [
       "<Figure size 432x360 with 0 Axes>"
      ]
     },
     "metadata": {},
     "output_type": "display_data"
    },
    {
     "data": {
      "text/plain": [
       "<Figure size 1620x360 with 0 Axes>"
      ]
     },
     "metadata": {},
     "output_type": "display_data"
    },
    {
     "data": {
      "text/plain": [
       "<Figure size 288x405 with 0 Axes>"
      ]
     },
     "metadata": {},
     "output_type": "display_data"
    },
    {
     "data": {
      "text/plain": [
       "<Figure size 720x432 with 0 Axes>"
      ]
     },
     "metadata": {},
     "output_type": "display_data"
    },
    {
     "data": {
      "text/plain": [
       "<Figure size 864x576 with 0 Axes>"
      ]
     },
     "metadata": {},
     "output_type": "display_data"
    },
    {
     "data": {
      "text/plain": [
       "<Figure size 720x432 with 0 Axes>"
      ]
     },
     "metadata": {},
     "output_type": "display_data"
    },
    {
     "data": {
      "text/plain": [
       "<Figure size 720x432 with 0 Axes>"
      ]
     },
     "metadata": {},
     "output_type": "display_data"
    },
    {
     "data": {
      "text/plain": [
       "<Figure size 1008x576 with 0 Axes>"
      ]
     },
     "metadata": {},
     "output_type": "display_data"
    },
    {
     "data": {
      "text/plain": [
       "<Figure size 1008x576 with 0 Axes>"
      ]
     },
     "metadata": {},
     "output_type": "display_data"
    },
    {
     "data": {
      "text/plain": [
       "<Figure size 432x315 with 0 Axes>"
      ]
     },
     "metadata": {},
     "output_type": "display_data"
    },
    {
     "data": {
      "text/plain": [
       "<Figure size 432x495 with 0 Axes>"
      ]
     },
     "metadata": {},
     "output_type": "display_data"
    },
    {
     "data": {
      "text/plain": [
       "<Figure size 432x180 with 0 Axes>"
      ]
     },
     "metadata": {},
     "output_type": "display_data"
    },
    {
     "data": {
      "text/plain": [
       "<Figure size 432x360 with 0 Axes>"
      ]
     },
     "metadata": {},
     "output_type": "display_data"
    },
    {
     "data": {
      "text/plain": [
       "<Figure size 1620x360 with 0 Axes>"
      ]
     },
     "metadata": {},
     "output_type": "display_data"
    },
    {
     "data": {
      "text/plain": [
       "<Figure size 288x405 with 0 Axes>"
      ]
     },
     "metadata": {},
     "output_type": "display_data"
    },
    {
     "data": {
      "text/plain": [
       "<Figure size 720x432 with 0 Axes>"
      ]
     },
     "metadata": {},
     "output_type": "display_data"
    },
    {
     "data": {
      "text/plain": [
       "<Figure size 864x576 with 0 Axes>"
      ]
     },
     "metadata": {},
     "output_type": "display_data"
    },
    {
     "data": {
      "text/plain": [
       "<Figure size 720x432 with 0 Axes>"
      ]
     },
     "metadata": {},
     "output_type": "display_data"
    },
    {
     "data": {
      "text/plain": [
       "<Figure size 720x432 with 0 Axes>"
      ]
     },
     "metadata": {},
     "output_type": "display_data"
    },
    {
     "data": {
      "text/plain": [
       "<Figure size 1008x576 with 0 Axes>"
      ]
     },
     "metadata": {},
     "output_type": "display_data"
    },
    {
     "data": {
      "text/plain": [
       "<Figure size 1008x576 with 0 Axes>"
      ]
     },
     "metadata": {},
     "output_type": "display_data"
    },
    {
     "data": {
      "text/plain": [
       "<Figure size 288x405 with 0 Axes>"
      ]
     },
     "metadata": {},
     "output_type": "display_data"
    },
    {
     "data": {
      "text/plain": [
       "<Figure size 720x432 with 0 Axes>"
      ]
     },
     "metadata": {},
     "output_type": "display_data"
    },
    {
     "data": {
      "text/plain": [
       "<Figure size 864x576 with 0 Axes>"
      ]
     },
     "metadata": {},
     "output_type": "display_data"
    },
    {
     "data": {
      "text/plain": [
       "<Figure size 720x432 with 0 Axes>"
      ]
     },
     "metadata": {},
     "output_type": "display_data"
    },
    {
     "data": {
      "text/plain": [
       "<Figure size 720x432 with 0 Axes>"
      ]
     },
     "metadata": {},
     "output_type": "display_data"
    },
    {
     "data": {
      "text/plain": [
       "<Figure size 1008x576 with 0 Axes>"
      ]
     },
     "metadata": {},
     "output_type": "display_data"
    },
    {
     "data": {
      "text/plain": [
       "<Figure size 1008x576 with 0 Axes>"
      ]
     },
     "metadata": {},
     "output_type": "display_data"
    },
    {
     "data": {
      "text/plain": [
       "<Figure size 288x405 with 0 Axes>"
      ]
     },
     "metadata": {},
     "output_type": "display_data"
    },
    {
     "data": {
      "text/plain": [
       "<Figure size 720x432 with 0 Axes>"
      ]
     },
     "metadata": {},
     "output_type": "display_data"
    },
    {
     "data": {
      "text/plain": [
       "<Figure size 864x576 with 0 Axes>"
      ]
     },
     "metadata": {},
     "output_type": "display_data"
    },
    {
     "data": {
      "text/plain": [
       "<Figure size 720x432 with 0 Axes>"
      ]
     },
     "metadata": {},
     "output_type": "display_data"
    },
    {
     "data": {
      "text/plain": [
       "<Figure size 720x432 with 0 Axes>"
      ]
     },
     "metadata": {},
     "output_type": "display_data"
    },
    {
     "data": {
      "text/plain": [
       "<Figure size 1008x576 with 0 Axes>"
      ]
     },
     "metadata": {},
     "output_type": "display_data"
    },
    {
     "data": {
      "text/plain": [
       "<Figure size 1008x576 with 0 Axes>"
      ]
     },
     "metadata": {},
     "output_type": "display_data"
    },
    {
     "data": {
      "text/plain": [
       "<Figure size 288x405 with 0 Axes>"
      ]
     },
     "metadata": {},
     "output_type": "display_data"
    },
    {
     "data": {
      "text/plain": [
       "<Figure size 720x432 with 0 Axes>"
      ]
     },
     "metadata": {},
     "output_type": "display_data"
    },
    {
     "data": {
      "text/plain": [
       "<Figure size 720x432 with 0 Axes>"
      ]
     },
     "metadata": {},
     "output_type": "display_data"
    },
    {
     "data": {
      "text/plain": [
       "<Figure size 1008x576 with 0 Axes>"
      ]
     },
     "metadata": {},
     "output_type": "display_data"
    },
    {
     "data": {
      "text/plain": [
       "<Figure size 1008x576 with 0 Axes>"
      ]
     },
     "metadata": {},
     "output_type": "display_data"
    },
    {
     "data": {
      "text/plain": [
       "<Figure size 288x405 with 0 Axes>"
      ]
     },
     "metadata": {},
     "output_type": "display_data"
    },
    {
     "data": {
      "text/plain": [
       "<Figure size 720x432 with 0 Axes>"
      ]
     },
     "metadata": {},
     "output_type": "display_data"
    },
    {
     "data": {
      "text/plain": [
       "<Figure size 720x432 with 0 Axes>"
      ]
     },
     "metadata": {},
     "output_type": "display_data"
    },
    {
     "data": {
      "text/plain": [
       "<Figure size 1008x576 with 0 Axes>"
      ]
     },
     "metadata": {},
     "output_type": "display_data"
    },
    {
     "data": {
      "text/plain": [
       "<Figure size 1008x576 with 0 Axes>"
      ]
     },
     "metadata": {},
     "output_type": "display_data"
    },
    {
     "data": {
      "text/plain": [
       "<Figure size 288x405 with 0 Axes>"
      ]
     },
     "metadata": {},
     "output_type": "display_data"
    },
    {
     "data": {
      "text/plain": [
       "<Figure size 720x432 with 0 Axes>"
      ]
     },
     "metadata": {},
     "output_type": "display_data"
    },
    {
     "data": {
      "text/plain": [
       "<Figure size 720x432 with 0 Axes>"
      ]
     },
     "metadata": {},
     "output_type": "display_data"
    },
    {
     "data": {
      "text/plain": [
       "<Figure size 1008x576 with 0 Axes>"
      ]
     },
     "metadata": {},
     "output_type": "display_data"
    },
    {
     "data": {
      "text/plain": [
       "<Figure size 1008x576 with 0 Axes>"
      ]
     },
     "metadata": {},
     "output_type": "display_data"
    }
   ],
   "source": [
    "dataset_dic = {'happy_all':happy_all, 'happy_day':happy_day, 'happy_months':happy_months, \n",
    "               'age_all':age_all, 'age_day':age_day, 'age_months':age_months, \n",
    "               'wid_all':wid_all,'wid_day':wid_day, 'wid_months':wid_months}\n",
    "               \n",
    "               \n",
    "for k,v in dataset_dic.items():\n",
    "    vis = Visualisations(v, k, 'visualisations/', 'stemmed')\n",
    "    print(vis.all_vis())"
   ]
  },
  {
   "cell_type": "code",
   "execution_count": null,
   "metadata": {},
   "outputs": [],
   "source": []
  }
 ],
 "metadata": {
  "kernelspec": {
   "display_name": "Python 3",
   "language": "python",
   "name": "python3"
  },
  "language_info": {
   "codemirror_mode": {
    "name": "ipython",
    "version": 3
   },
   "file_extension": ".py",
   "mimetype": "text/x-python",
   "name": "python",
   "nbconvert_exporter": "python",
   "pygments_lexer": "ipython3",
   "version": "3.7.4"
  },
  "toc": {
   "base_numbering": 1,
   "nav_menu": {},
   "number_sections": true,
   "sideBar": true,
   "skip_h1_title": false,
   "title_cell": "Table of Contents",
   "title_sidebar": "Contents",
   "toc_cell": true,
   "toc_position": {
    "height": "calc(100% - 180px)",
    "left": "10px",
    "top": "150px",
    "width": "165px"
   },
   "toc_section_display": true,
   "toc_window_display": true
  }
 },
 "nbformat": 4,
 "nbformat_minor": 2
}
